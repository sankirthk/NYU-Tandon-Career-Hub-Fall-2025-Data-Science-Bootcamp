{
  "nbformat": 4,
  "nbformat_minor": 0,
  "metadata": {
    "colab": {
      "provenance": [],
      "authorship_tag": "ABX9TyM9RXm4XO4z6wGQY2PwH7Hk"
    },
    "kernelspec": {
      "name": "python3",
      "display_name": "Python 3"
    },
    "language_info": {
      "name": "python"
    }
  },
  "cells": [
    {
      "cell_type": "markdown",
      "source": [
        "Datascience Bootcamp Homework 1 \\\n",
        "Date: 10/06/2026\n"
      ],
      "metadata": {
        "id": "JN0OzYdSxDN0"
      }
    },
    {
      "cell_type": "markdown",
      "source": [
        "Q1.  Write a program that takes a word as an input and print the number of vowels in the word."
      ],
      "metadata": {
        "id": "3vzCQw_YxsZH"
      }
    },
    {
      "cell_type": "code",
      "execution_count": 4,
      "metadata": {
        "colab": {
          "base_uri": "https://localhost:8080/"
        },
        "id": "hIe86127wXdF",
        "outputId": "de92b02e-c3e7-42d4-f061-3982c8667c6d"
      },
      "outputs": [
        {
          "output_type": "stream",
          "name": "stdout",
          "text": [
            "The number of vowels in 'vowel' is : 2\n"
          ]
        }
      ],
      "source": [
        "# Answer:\n",
        "vowels = {\"a\", \"e\", \"i\", \"o\", \"u\"}\n",
        "\n",
        "def count_vowels(s: str)-> int:\n",
        "    s = s.lower()\n",
        "    count = 0\n",
        "    for char in s:\n",
        "      if char in vowels:\n",
        "        count += 1\n",
        "\n",
        "    return count\n",
        "\n",
        "s = \"vowel\"\n",
        "count = count_vowels(s)\n",
        "print(f\"The number of vowels in '{s}' is : {count}\")"
      ]
    },
    {
      "cell_type": "markdown",
      "source": [
        "Q2. Iterate through the following list of animals and print each one in all caps.\n",
        "\n",
        "  animals=['tiger', 'elephant', 'monkey', 'zebra', 'panther']"
      ],
      "metadata": {
        "id": "6XulvvrJzEbQ"
      }
    },
    {
      "cell_type": "code",
      "source": [
        "# Answer:\n",
        "\n",
        "animals = ['tiger', 'elephant', 'monkey', 'zebra', 'panther']\n",
        "for animal in animals:\n",
        "  print(animal.upper())"
      ],
      "metadata": {
        "colab": {
          "base_uri": "https://localhost:8080/"
        },
        "id": "OUF9dkqaybjB",
        "outputId": "23950837-0e10-4743-9034-2656e2411ea6"
      },
      "execution_count": 7,
      "outputs": [
        {
          "output_type": "stream",
          "name": "stdout",
          "text": [
            "TIGER\n",
            "ELEPHANT\n",
            "MONKEY\n",
            "ZEBRA\n",
            "PANTHER\n"
          ]
        }
      ]
    },
    {
      "cell_type": "markdown",
      "source": [
        "Q3. Write a program that iterates from 1 to 20, printing each number and whether it's odd or even."
      ],
      "metadata": {
        "id": "o2gDuf2kzp1E"
      }
    },
    {
      "cell_type": "code",
      "source": [
        "# Answer:\n",
        "i = 20\n",
        "for num in range(1, i + 1):\n",
        "  if num % 2 == 0:\n",
        "    print(num, \" is even\" )\n",
        "  else:\n",
        "    print(num, \" is odd\")"
      ],
      "metadata": {
        "colab": {
          "base_uri": "https://localhost:8080/"
        },
        "id": "vMAHJkB-zhew",
        "outputId": "6a1bde64-f495-42ee-c68a-2a143ec21b77"
      },
      "execution_count": 9,
      "outputs": [
        {
          "output_type": "stream",
          "name": "stdout",
          "text": [
            "1  is odd\n",
            "2  is even\n",
            "3  is odd\n",
            "4  is even\n",
            "5  is odd\n",
            "6  is even\n",
            "7  is odd\n",
            "8  is even\n",
            "9  is odd\n",
            "10  is even\n",
            "11  is odd\n",
            "12  is even\n",
            "13  is odd\n",
            "14  is even\n",
            "15  is odd\n",
            "16  is even\n",
            "17  is odd\n",
            "18  is even\n",
            "19  is odd\n",
            "20  is even\n"
          ]
        }
      ]
    },
    {
      "cell_type": "markdown",
      "source": [
        "Q4. Write a program to check if a string is a palindrome or not."
      ],
      "metadata": {
        "id": "TlJZrBHQ0jVm"
      }
    },
    {
      "cell_type": "code",
      "source": [
        "# Answer:\n",
        "def check_palindrome(s: str) -> bool:\n",
        "    l, r = 0, len(s) - 1\n",
        "    while l < r:\n",
        "        while l < r and (not(get_ord(s[l]))):\n",
        "            l += 1\n",
        "\n",
        "        while l < r and not get_ord(s[r]):\n",
        "            r -= 1\n",
        "\n",
        "        if s[l].lower() != s[r].lower():\n",
        "            return False\n",
        "\n",
        "        l, r = l + 1, r - 1\n",
        "\n",
        "    return True\n",
        "\n",
        "def get_ord(c: str) -> bool:\n",
        "    return (ord('a') <= ord(c) <= ord('z') or ord('A') <= ord(c) <= ord('Z') or ord('0') <= ord(c) <= ord('9'))\n",
        "\n",
        "\n",
        "input1 = \"call\"\n",
        "print(check_palindrome(input1))"
      ],
      "metadata": {
        "colab": {
          "base_uri": "https://localhost:8080/"
        },
        "id": "-yKKUD9R0ebU",
        "outputId": "00e8b44e-3783-4f56-fcb9-60e347f7bb59"
      },
      "execution_count": 15,
      "outputs": [
        {
          "output_type": "stream",
          "name": "stdout",
          "text": [
            "False\n"
          ]
        }
      ]
    },
    {
      "cell_type": "markdown",
      "source": [
        "Q5. Write a function sum_of_integers(a, b) that takes two integers as input from the user and returns their sum. (optional)"
      ],
      "metadata": {
        "id": "kxTZ0WAM3ZwV"
      }
    },
    {
      "cell_type": "code",
      "source": [
        "# Answer:\n",
        "inputs = input(\"Enter two numbers separated by space to add: \")\n",
        "num1, num2 = inputs.strip().split()\n",
        "num1 = int(num1)\n",
        "num2 = int(num2)\n",
        "print(f\"Sum of the two numbers are: {num1 + num2}\")"
      ],
      "metadata": {
        "colab": {
          "base_uri": "https://localhost:8080/"
        },
        "id": "Z84uCuya25qg",
        "outputId": "e1e1ddb5-446a-4147-8051-cade91a6fa93"
      },
      "execution_count": 17,
      "outputs": [
        {
          "output_type": "stream",
          "name": "stdout",
          "text": [
            "Enter two numbers separated by space to add: 2 4\n",
            "Sum of the two numbers are: 6\n"
          ]
        }
      ]
    },
    {
      "cell_type": "code",
      "source": [],
      "metadata": {
        "id": "wU0jZxjI3-GY"
      },
      "execution_count": null,
      "outputs": []
    }
  ]
}